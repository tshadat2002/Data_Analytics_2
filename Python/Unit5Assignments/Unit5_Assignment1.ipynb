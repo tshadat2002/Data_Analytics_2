{
  "nbformat": 4,
  "nbformat_minor": 0,
  "metadata": {
    "colab": {
      "name": "Unit5_Assignment1",
      "provenance": [],
      "authorship_tag": "ABX9TyNgUX+7QVTPEJJPtcnES2X/",
      "include_colab_link": true
    },
    "kernelspec": {
      "name": "python3",
      "display_name": "Python 3"
    },
    "language_info": {
      "name": "python"
    }
  },
  "cells": [
    {
      "cell_type": "markdown",
      "metadata": {
        "id": "view-in-github",
        "colab_type": "text"
      },
      "source": [
        "<a href=\"https://colab.research.google.com/github/tshadat2002/data_analytics_2/blob/main/Python/Unit5Assignments/Unit5_Assignment1.ipynb\" target=\"_parent\"><img src=\"https://colab.research.google.com/assets/colab-badge.svg\" alt=\"Open In Colab\"/></a>"
      ]
    },
    {
      "cell_type": "code",
      "metadata": {
        "id": "5SMWaxBmw8x3"
      },
      "source": [
        "#1. Write a select statement to return all columns and rows from the customer table.\n",
        "SELECT * FROM customer\n",
        "\n",
        "\n",
        "#2. Write a query to select first name, last name, and email from the customer table.\n",
        "SELECT first_name, last_name, email FROM customer\n",
        "\n",
        "\n",
        "\n",
        "#3. Write a query to return all rows and columns from the film table.\n",
        "SELECT * FROM film\n",
        "\n",
        "\n",
        "\n",
        "\n",
        "#4. Write a query to return unique rows from the release_year column in the film table.\n",
        "SELECT Distinct release_year FROM film\n",
        "\n",
        "\n",
        "\n",
        "\n",
        "#5. Write a query to return unique rows from the rental_rate column in the film table.\n",
        "SELECT Distinct rental_rate FROM film\n",
        "\n",
        "\n",
        "\n",
        "\n",
        "#6. A customer left us some feedback about our store.  Write a query to find her email address – for Nancy Thomas.\n",
        "SELECT email FROM customer\n",
        "WHERE first_name = 'Nancy';\n",
        "\n",
        "\n",
        "\n",
        "#7. We’re trying to find a customer located at a certain address ‘259 Ipoh Drive’ – can you find their phone number? \n",
        "SELECT phone FROM address\n",
        "WHERE address = '259 Ipoh Drive';\n",
        "\n",
        "\n",
        "\n",
        "#8. Write a query from the customer table, where store id is 1 and address id is greater than 150.\n",
        "SELECT * FROM customer\n",
        "WHERE\n",
        "\tstore_id = 1\n",
        "\tAND\n",
        "\taddress_id > 150;\n",
        "\n",
        "\n",
        "\n",
        "#9. Write a query from the payment table where the amount is either 4.99 or 1.99.\n",
        "SELECT * FROM payment\n",
        "WHERE\n",
        "\tamount = 4.99\n",
        "\tOR\n",
        "\tamount = 1.99\n",
        "\n",
        "\n",
        "\n",
        "#10. Write a query to return a list of transitions from the payment table where the amount is greater than 5.\n",
        "SELECT * FROM payment\n",
        "WHERE\n",
        "\tamount > 5\n"
      ],
      "execution_count": null,
      "outputs": []
    }
  ]
}