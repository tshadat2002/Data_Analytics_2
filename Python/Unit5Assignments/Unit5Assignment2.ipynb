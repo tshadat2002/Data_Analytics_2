{
  "nbformat": 4,
  "nbformat_minor": 0,
  "metadata": {
    "colab": {
      "name": "Unit5Assignment2.ipynb",
      "provenance": [],
      "authorship_tag": "ABX9TyMP5fjb1ml6y5mXtrQz9Gu5",
      "include_colab_link": true
    },
    "kernelspec": {
      "name": "python3",
      "display_name": "Python 3"
    },
    "language_info": {
      "name": "python"
    }
  },
  "cells": [
    {
      "cell_type": "markdown",
      "metadata": {
        "id": "view-in-github",
        "colab_type": "text"
      },
      "source": [
        "<a href=\"https://colab.research.google.com/github/tshadat2002/data_analytics_2/blob/main/Python/Unit5Assignments/Unit5Assignment2.ipynb\" target=\"_parent\"><img src=\"https://colab.research.google.com/assets/colab-badge.svg\" alt=\"Open In Colab\"/></a>"
      ]
    },
    {
      "cell_type": "code",
      "metadata": {
        "id": "r-npKBV0-cRa"
      },
      "source": [
        "#Join the film to the film_actor table.\n",
        "SELECT * \n",
        "FROM film\n",
        "INNER JOIN film_actor\n",
        "ON film.film_id = film_actor.film_id;\n",
        "\n",
        "\n",
        "\n",
        "\n",
        "#Join the actor table to the film_actor table. \n",
        "SELECT * \n",
        "FROM actor\n",
        "INNER JOIN film_actor\n",
        "ON actor.actor_id = film_actor.actor_id;\n",
        "\n",
        "\n",
        "\n",
        "\n",
        "\n",
        "#Try to join the actor, film_actor, and film table together (3 joins!)\n",
        "SELECT * \n",
        "FROM actor\n",
        "INNER JOIN film_actor\n",
        "ON actor.actor_id = film_actor.actor_id\n",
        "INNER JOIN film\n",
        "ON film_actor.film_id = film.film_id;\n"
      ],
      "execution_count": null,
      "outputs": []
    }
  ]
}