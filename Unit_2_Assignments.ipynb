{
  "nbformat": 4,
  "nbformat_minor": 0,
  "metadata": {
    "colab": {
      "name": "Unit 2 Assignments",
      "provenance": [],
      "authorship_tag": "ABX9TyM5mYOUThBOhtbiETMmVbvc",
      "include_colab_link": true
    },
    "kernelspec": {
      "name": "python3",
      "display_name": "Python 3"
    },
    "language_info": {
      "name": "python"
    }
  },
  "cells": [
    {
      "cell_type": "markdown",
      "metadata": {
        "id": "view-in-github",
        "colab_type": "text"
      },
      "source": [
        "<a href=\"https://colab.research.google.com/github/tshadat2002/data_analytics_2/blob/main/Unit_2_Assignments.ipynb\" target=\"_parent\"><img src=\"https://colab.research.google.com/assets/colab-badge.svg\" alt=\"Open In Colab\"/></a>"
      ]
    },
    {
      "cell_type": "markdown",
      "metadata": {
        "id": "n9Y6cSjLxaen"
      },
      "source": [
        "Unit 2 L2"
      ]
    },
    {
      "cell_type": "code",
      "metadata": {
        "id": "1D0hVyAYzpHM"
      },
      "source": [
        "#1\n",
        "#hhh"
      ],
      "execution_count": null,
      "outputs": []
    },
    {
      "cell_type": "markdown",
      "metadata": {
        "id": "6x7bp49oxu4l"
      },
      "source": [
        "Unit 2 L3"
      ]
    },
    {
      "cell_type": "code",
      "metadata": {
        "colab": {
          "base_uri": "https://localhost:8080/"
        },
        "id": "UblFoXECxyzk",
        "outputId": "0198850b-0ecd-4820-eaf6-7682a3ded407"
      },
      "source": [
        "#1\n",
        "favorite_shows = [\"The Office\", \"Adventure Time\", \"Rick and Morty\", \"Regular Show\", \"Dragon Ball Z\"]\n",
        "\n",
        "#2\n",
        "print(favorite_shows)\n",
        "\n",
        "#3\n",
        "print(sorted(favorite_shows))\n",
        "#The primary difference between the list sort() function and the sorted() function is that the sort() function will modify the list it is called on. The sorted() function will create a new list containing a sorted version of the list it is given.\n",
        "\n",
        "#4\n",
        "print(favorite_shows)\n",
        "\n",
        "#5\n",
        "print(\"I have \" + str(len(favorite_shows)) + \" favorite shows\")"
      ],
      "execution_count": 5,
      "outputs": [
        {
          "output_type": "stream",
          "text": [
            "['The Office', 'Adventure Time', 'Rick and Morty', 'Regular Show', 'Dragon Ball Z']\n",
            "['Adventure Time', 'Dragon Ball Z', 'Regular Show', 'Rick and Morty', 'The Office']\n",
            "['The Office', 'Adventure Time', 'Rick and Morty', 'Regular Show', 'Dragon Ball Z']\n",
            "I have 5 favorite shows\n"
          ],
          "name": "stdout"
        }
      ]
    }
  ]
}